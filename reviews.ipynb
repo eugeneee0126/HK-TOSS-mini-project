{
 "cells": [
  {
   "cell_type": "markdown",
   "id": "f780bf7e",
   "metadata": {},
   "source": [
    "## 카카오 API를 활용하여 충정로 역 주변 맛집 후기 검색"
   ]
  },
  {
   "cell_type": "markdown",
   "id": "5db3e301",
   "metadata": {},
   "source": [
    "충정로역 주변 맛집 100개의 후기에서 별점, 내용, 가게이름 긁어오기.\n",
    "\n",
    "카카오 api 사용.\n",
    "\n",
    "충정로역 주변\n",
    "\n",
    "1. 키워드 기반 로컬 검색 api\n",
    "2. 키워드 설정\n",
    "3. datas 에 json형태로 맛집 정보 저장\n",
    "4. 맛집 고유 id, 를 datas 안에서 가져오기  \n",
    "5. 맛집 id 내에서 코멘트가 더 이상 없을 때 까지(hasnext) 스크래이핑 "
   ]
  },
  {
   "cell_type": "markdown",
   "id": "065d5c9b",
   "metadata": {},
   "source": [
    "카카오 API 문서에 보면,\n",
    "page라는 파라미터를 추가할 수 있어.\n",
    "\n",
    "page=1 → 첫 번째 15개\n",
    "\n",
    "page=2 → 다음 15개\n",
    "\n",
    "page=3 → 그다음 15개 (※ 최대 3페이지까지만 지원해)"
   ]
  },
  {
   "cell_type": "code",
   "execution_count": 4,
   "id": "78010e5e",
   "metadata": {},
   "outputs": [],
   "source": [
    "# 사전준비\n",
    "\n",
    "import pandas as pd\n",
    "import requests\n",
    "from bs4 import BeautifulSoup"
   ]
  },
  {
   "cell_type": "code",
   "execution_count": 19,
   "id": "fb7235f5",
   "metadata": {},
   "outputs": [],
   "source": [
    "# 나의 API키\n",
    "REST_API_KEY = \"668977541fc5a5fd5c0d271902df39c5\"\n",
    "\n",
    "# API 키를 헤더에 넣어서 보낼 준비\n",
    "headers = {\n",
    "    \"Authorization\": f\"KakaoAK {REST_API_KEY}\"\n",
    "}\n",
    "\n",
    "keywords = [\"충정로역\"]\n",
    "\n",
    "\n",
    "KEYWORD_LOCAL_URL = \"https://dapi.kakao.com/v2/local/search/keyword.json\"\n"
   ]
  },
  {
   "cell_type": "code",
   "execution_count": 20,
   "id": "b0d60ea3",
   "metadata": {},
   "outputs": [
    {
     "name": "stdout",
     "output_type": "stream",
     "text": [
      "[{'address_name': '서울 중구 만리동1가 53-8', 'category_group_code': 'FD6', 'category_group_name': '음식점', 'category_name': '음식점 > 일식 > 일본식라면', 'distance': '', 'id': '469577034', 'phone': '070-4177-0365', 'place_name': '유즈라멘 만리동점', 'place_url': 'http://place.map.kakao.com/469577034', 'road_address_name': '서울 중구 만리재로 217', 'x': '126.96823844833658', 'y': '37.556815391728634'}, {'address_name': '서울 중구 만리동1가 62-11', 'category_group_code': 'FD6', 'category_group_name': '음식점', 'category_name': '음식점 > 양식', 'distance': '', 'id': '1646052453', 'phone': '02-393-1824', 'place_name': '만리재비스트로', 'place_url': 'http://place.map.kakao.com/1646052453', 'road_address_name': '서울 중구 만리재로 201', 'x': '126.967831535859', 'y': '37.5556079449278'}, {'address_name': '서울 중구 만리동1가 62-27', 'category_group_code': 'FD6', 'category_group_name': '음식점', 'category_name': '음식점 > 한식', 'distance': '', 'id': '1541595421', 'phone': '010-6622-0195', 'place_name': '공일부엌', 'place_url': 'http://place.map.kakao.com/1541595421', 'road_address_name': '서울 중구 만리재로 209', 'x': '126.96813917313966', 'y': '37.55606573509078'}, {'address_name': '서울 중구 중림동 150-1', 'category_group_code': 'FD6', 'category_group_name': '음식점', 'category_name': '음식점 > 한식', 'distance': '', 'id': '302317049', 'phone': '02-3147-0365', 'place_name': '도마 중림점', 'place_url': 'http://place.map.kakao.com/302317049', 'road_address_name': '서울 중구 중림로 31', 'x': '126.96716947162', 'y': '37.5581846152161'}, {'address_name': '서울 중구 만리동1가 34', 'category_group_code': 'FD6', 'category_group_name': '음식점', 'category_name': '음식점 > 한식 > 육류,고기 > 삼겹살', 'distance': '', 'id': '221927024', 'phone': '', 'place_name': '국민회관', 'place_url': 'http://place.map.kakao.com/221927024', 'road_address_name': '서울 중구 만리재로 209-2', 'x': '126.96811874112136', 'y': '37.55620808718745'}, {'address_name': '서울 중구 정동 28-2', 'category_group_code': 'FD6', 'category_group_name': '음식점', 'category_name': '음식점 > 양식 > 스테이크,립', 'distance': '', 'id': '15982071', 'phone': '02-777-2254', 'place_name': '정원레스토랑 어반가든', 'place_url': 'http://place.map.kakao.com/15982071', 'road_address_name': '서울 중구 정동길 12-15', 'x': '126.969202859743', 'y': '37.5674329910375'}, {'address_name': '서울 중구 중림동 468', 'category_group_code': 'FD6', 'category_group_name': '음식점', 'category_name': '음식점 > 한식 > 설렁탕', 'distance': '', 'id': '8079539', 'phone': '02-392-7743', 'place_name': '중림장', 'place_url': 'http://place.map.kakao.com/8079539', 'road_address_name': '서울 중구 청파로 459-1', 'x': '126.96773219560939', 'y': '37.56027147946778'}, {'address_name': '서울 중구 만리동1가 62-14', 'category_group_code': 'FD6', 'category_group_name': '음식점', 'category_name': '음식점 > 한식 > 육류,고기 > 갈비', 'distance': '', 'id': '2092235998', 'phone': '02-6949-3532', 'place_name': '봉래축산', 'place_url': 'http://place.map.kakao.com/2092235998', 'road_address_name': '서울 중구 만리재로35길 6', 'x': '126.967626719735', 'y': '37.5555430171222'}, {'address_name': '서울 중구 중림동 200', 'category_group_code': 'FD6', 'category_group_name': '음식점', 'category_name': '음식점 > 한식 > 육류,고기', 'distance': '', 'id': '26939037', 'phone': '02-392-8592', 'place_name': '두툼', 'place_url': 'http://place.map.kakao.com/26939037', 'road_address_name': '서울 중구 중림로 10', 'x': '126.966205121367', 'y': '37.5583573345869'}, {'address_name': '서울 중구 만리동1가 62-1', 'category_group_code': 'FD6', 'category_group_name': '음식점', 'category_name': '음식점 > 양식', 'distance': '', 'id': '1981716686', 'phone': '', 'place_name': '서울부띠끄', 'place_url': 'http://place.map.kakao.com/1981716686', 'road_address_name': '서울 중구 만리재로 209-1', 'x': '126.96822969267', 'y': '37.556112611359'}, {'address_name': '서울 중구 서소문동 75-95', 'category_group_code': 'CE7', 'category_group_name': '카페', 'category_name': '음식점 > 카페', 'distance': '', 'id': '1198183678', 'phone': '02-777-7557', 'place_name': '커피앤시가렛', 'place_url': 'http://place.map.kakao.com/1198183678', 'road_address_name': '서울 중구 서소문로 116', 'x': '126.974085326743', 'y': '37.5626696960715'}, {'address_name': '서울 서대문구 충정로3가 143-2', 'category_group_code': 'FD6', 'category_group_name': '음식점', 'category_name': '음식점 > 분식 > 떡볶이', 'distance': '', 'id': '25880887', 'phone': '02-364-3440', 'place_name': '철길떡볶이', 'place_url': 'http://place.map.kakao.com/25880887', 'road_address_name': '서울 서대문구 충정로 35-6', 'x': '126.96360803952125', 'y': '37.56229662189628'}, {'address_name': '서울 중구 남대문로5가 84-9', 'category_group_code': 'FD6', 'category_group_name': '음식점', 'category_name': '음식점 > 한식 > 육류,고기', 'distance': '', 'id': '412548224', 'phone': '02-776-6252', 'place_name': '풍문고기집', 'place_url': 'http://place.map.kakao.com/412548224', 'road_address_name': '서울 중구 세종대로2길 6-1', 'x': '126.973684166641', 'y': '37.5576204206984'}, {'address_name': '서울 중구 만리동1가 62-36', 'category_group_code': 'FD6', 'category_group_name': '음식점', 'category_name': '음식점 > 퓨전요리', 'distance': '', 'id': '26644530', 'phone': '02-312-0205', 'place_name': '베리키친', 'place_url': 'http://place.map.kakao.com/26644530', 'road_address_name': '서울 중구 만리재로 205', 'x': '126.9679717839545', 'y': '37.55581160850519'}, {'address_name': '서울 중구 순화동 1-5', 'category_group_code': 'FD6', 'category_group_name': '음식점', 'category_name': '음식점 > 한식 > 해물,생선', 'distance': '', 'id': '15659337', 'phone': '02-2130-2929', 'place_name': '미시령너머', 'place_url': 'http://place.map.kakao.com/15659337', 'road_address_name': '서울 중구 통일로4길 16', 'x': '126.96895293882322', 'y': '37.56414609205921'}, {'address_name': '서울 중구 남창동 60-2', 'category_group_code': 'FD6', 'category_group_name': '음식점', 'category_name': '음식점 > 분식', 'distance': '', 'id': '11486129', 'phone': '02-755-2569', 'place_name': '가메골손왕만두 남대문본점', 'place_url': 'http://place.map.kakao.com/11486129', 'road_address_name': '서울 중구 남대문시장4길 42', 'x': '126.97711545793453', 'y': '37.55835454736746'}, {'address_name': '서울 중구 중림동 61-4', 'category_group_code': 'FD6', 'category_group_name': '음식점', 'category_name': '음식점 > 한식 > 육류,고기 > 닭요리', 'distance': '', 'id': '27276847', 'phone': '02-392-0695', 'place_name': '호수집 원조닭꼬치', 'place_url': 'http://place.map.kakao.com/27276847', 'road_address_name': '서울 중구 청파로 443', 'x': '126.968681156219', 'y': '37.5590607950843'}, {'address_name': '서울 중구 중림동 128-23', 'category_group_code': 'FD6', 'category_group_name': '음식점', 'category_name': '음식점 > 한식', 'distance': '', 'id': '820527185', 'phone': '02-365-5993', 'place_name': '이조식당', 'place_url': 'http://place.map.kakao.com/820527185', 'road_address_name': '서울 중구 청파로103길 33', 'x': '126.968310524991', 'y': '37.5576551406127'}, {'address_name': '서울 서대문구 충정로3가 190-5', 'category_group_code': 'FD6', 'category_group_name': '음식점', 'category_name': '음식점 > 한식 > 국수', 'distance': '', 'id': '9991132', 'phone': '02-362-1172', 'place_name': '명인강메밀푸른초장', 'place_url': 'http://place.map.kakao.com/9991132', 'road_address_name': '서울 서대문구 충정로 43-4', 'x': '126.96417477963867', 'y': '37.56294461171103'}, {'address_name': '서울 서대문구 미근동 31-7', 'category_group_code': 'FD6', 'category_group_name': '음식점', 'category_name': '음식점 > 술집 > 일본식주점', 'distance': '', 'id': '861738054', 'phone': '02-313-6358', 'place_name': '28총각', 'place_url': 'http://place.map.kakao.com/861738054', 'road_address_name': '서울 서대문구 통일로 107-21', 'x': '126.96700950796584', 'y': '37.56418791183076'}, {'address_name': '서울 서대문구 충정로2가 157', 'category_group_code': 'FD6', 'category_group_name': '음식점', 'category_name': '음식점 > 한식 > 한정식', 'distance': '', 'id': '9923165', 'phone': '02-362-1500', 'place_name': '사조미가', 'place_url': 'http://place.map.kakao.com/9923165', 'road_address_name': '서울 서대문구 통일로 107-39', 'x': '126.9660937988812', 'y': '37.56425342512914'}, {'address_name': '서울 중구 만리동1가 62-16', 'category_group_code': 'CE7', 'category_group_name': '카페', 'category_name': '음식점 > 카페', 'distance': '', 'id': '1769574951', 'phone': '02-365-1932', 'place_name': '더하우스1932', 'place_url': 'http://place.map.kakao.com/1769574951', 'road_address_name': '서울 중구 만리재로35길 7', 'x': '126.967378869803', 'y': '37.5555429489062'}, {'address_name': '서울 중구 중림동 77-1', 'category_group_code': 'FD6', 'category_group_name': '음식점', 'category_name': '음식점 > 양식', 'distance': '', 'id': '23986974', 'phone': '02-6010-8088', 'place_name': '르셰프블루', 'place_url': 'http://place.map.kakao.com/23986974', 'road_address_name': '서울 중구 청파로 435-10', 'x': '126.96867226638417', 'y': '37.558667957995624'}, {'address_name': '서울 중구 서소문동 120-35', 'category_group_code': 'FD6', 'category_group_name': '음식점', 'category_name': '음식점 > 한식 > 국수', 'distance': '', 'id': '11152625', 'phone': '02-753-5388', 'place_name': '진주회관', 'place_url': 'http://place.map.kakao.com/11152625', 'road_address_name': '서울 중구 세종대로11길 26', 'x': '126.97453133779806', 'y': '37.562478781861735'}, {'address_name': '서울 중구 남창동 47-10', 'category_group_code': 'FD6', 'category_group_name': '음식점', 'category_name': '음식점 > 한식 > 냉면', 'distance': '', 'id': '7914330', 'phone': '02-753-7728', 'place_name': '부원면옥', 'place_url': 'http://place.map.kakao.com/7914330', 'road_address_name': '서울 중구 남대문시장4길 41-6', 'x': '126.977604365846', 'y': '37.5584213149079'}, {'address_name': '서울 중구 중림동 471', 'category_group_code': 'FD6', 'category_group_name': '음식점', 'category_name': '음식점 > 한식 > 육류,고기 > 닭요리', 'distance': '', 'id': '10253905', 'phone': '02-392-1134', 'place_name': '닭칼원조집', 'place_url': 'http://place.map.kakao.com/10253905', 'road_address_name': '서울 중구 청파로 457-1', 'x': '126.9678114499633', 'y': '37.56020662932637'}, {'address_name': '서울 서대문구 충정로3가 272', 'category_group_code': 'FD6', 'category_group_name': '음식점', 'category_name': '음식점 > 한식 > 육류,고기', 'distance': '', 'id': '12441941', 'phone': '02-312-3541', 'place_name': '고릴라', 'place_url': 'http://place.map.kakao.com/12441941', 'road_address_name': '서울 서대문구 충정로 22-2', 'x': '126.963709437731', 'y': '37.5609262371945'}, {'address_name': '서울 서대문구 충정로2가 40', 'category_group_code': 'FD6', 'category_group_name': '음식점', 'category_name': '음식점 > 한식 > 해물,생선 > 장어', 'distance': '', 'id': '19517729', 'phone': '02-313-8576', 'place_name': '참맛장어', 'place_url': 'http://place.map.kakao.com/19517729', 'road_address_name': '서울 서대문구 경기대로 82', 'x': '126.964662355148', 'y': '37.5658711944082'}, {'address_name': '서울 중구 순화동 151', 'category_group_code': 'FD6', 'category_group_name': '음식점', 'category_name': '음식점 > 중식 > 중국요리', 'distance': '', 'id': '1633496138', 'phone': '02-723-1968', 'place_name': '호중정원', 'place_url': 'http://place.map.kakao.com/1633496138', 'road_address_name': '서울 중구 칠패로 27', 'x': '126.97232181957081', 'y': '37.559869898987266'}, {'address_name': '서울 서대문구 충정로3가 360-22', 'category_group_code': 'FD6', 'category_group_name': '음식점', 'category_name': '음식점 > 양식 > 이탈리안', 'distance': '', 'id': '8583486', 'phone': '02-313-0424', 'place_name': '충정각', 'place_url': 'http://place.map.kakao.com/8583486', 'road_address_name': '서울 서대문구 충정로2길 8', 'x': '126.963745851436', 'y': '37.560522601819'}, {'address_name': '서울 중구 중림동 400-7', 'category_group_code': 'FD6', 'category_group_name': '음식점', 'category_name': '음식점 > 한식 > 해물,생선', 'distance': '', 'id': '166104597', 'phone': '02-363-0990', 'place_name': 'e문어세상 충정로직영점', 'place_url': 'http://place.map.kakao.com/166104597', 'road_address_name': '서울 중구 손기정로1길 46', 'x': '126.962433765954', 'y': '37.558900397137'}, {'address_name': '서울 중구 서소문동 55-3', 'category_group_code': 'FD6', 'category_group_name': '음식점', 'category_name': '음식점 > 한식 > 육류,고기 > 닭요리 > 삼계탕', 'distance': '', 'id': '8178288', 'phone': '02-752-9376', 'place_name': '고려삼계탕 시청본점', 'place_url': 'http://place.map.kakao.com/8178288', 'road_address_name': '서울 중구 서소문로11길 1', 'x': '126.972908086346', 'y': '37.5630118104688'}, {'address_name': '서울 중구 충정로1가 51-6', 'category_group_code': 'FD6', 'category_group_name': '음식점', 'category_name': '음식점 > 양식', 'distance': '', 'id': '261374332', 'phone': '010-8846-6604', 'place_name': '프랑스백반', 'place_url': 'http://place.map.kakao.com/261374332', 'road_address_name': '서울 중구 새문안로 32', 'x': '126.96925700576037', 'y': '37.567885305006705'}, {'address_name': '서울 종로구 교남동 50-1', 'category_group_code': 'FD6', 'category_group_name': '음식점', 'category_name': '음식점 > 중식 > 중국요리', 'distance': '', 'id': '706168887', 'phone': '02-738-6686', 'place_name': '메이탄 종로점', 'place_url': 'http://place.map.kakao.com/706168887', 'road_address_name': '서울 종로구 경교장1길 17', 'x': '126.964615812874', 'y': '37.5685489399893'}, {'address_name': '서울 서대문구 냉천동 20-1', 'category_group_code': 'FD6', 'category_group_name': '음식점', 'category_name': '음식점 > 한식 > 찌개,전골', 'distance': '', 'id': '16732242', 'phone': '02-362-8653', 'place_name': '한옥집김치찜 서대문본점', 'place_url': 'http://place.map.kakao.com/16732242', 'road_address_name': '서울 서대문구 통일로9길 12', 'x': '126.96443532198145', 'y': '37.567248748966584'}, {'address_name': '서울 중구 만리동1가 51-1', 'category_group_code': 'FD6', 'category_group_name': '음식점', 'category_name': '음식점 > 양식 > 피자', 'distance': '', 'id': '1141309946', 'phone': '02-711-7407', 'place_name': '도우스 서울로점', 'place_url': 'http://place.map.kakao.com/1141309946', 'road_address_name': '서울 중구 중림로 50-1', 'x': '126.96819759950526', 'y': '37.55706405601023'}, {'address_name': '서울 중구 남대문로4가 17-35', 'category_group_code': 'FD6', 'category_group_name': '음식점', 'category_name': '음식점 > 한식 > 국수', 'distance': '', 'id': '10553650', 'phone': '02-752-3297', 'place_name': '송옥', 'place_url': 'http://place.map.kakao.com/10553650', 'road_address_name': '서울 중구 남대문로1길 11', 'x': '126.977372533762', 'y': '37.561560344017'}, {'address_name': '서울 중구 중림동 335-2', 'category_group_code': 'FD6', 'category_group_name': '음식점', 'category_name': '음식점 > 일식', 'distance': '', 'id': '1753271813', 'phone': '02-363-7799', 'place_name': '중림동물고기', 'place_url': 'http://place.map.kakao.com/1753271813', 'road_address_name': '서울 중구 만리재로35길 52', 'x': '126.96801073042762', 'y': '37.55736583963122'}, {'address_name': '서울 중구 만리동1가 62-19', 'category_group_code': 'FD6', 'category_group_name': '음식점', 'category_name': '음식점 > 술집 > 호프,요리주점', 'distance': '', 'id': '812076679', 'phone': '010-9772-8286', 'place_name': '만리199', 'place_url': 'http://place.map.kakao.com/812076679', 'road_address_name': '서울 중구 만리재로 199', 'x': '126.96771163328161', 'y': '37.55546555457986'}, {'address_name': '서울 종로구 신문로2가 12-5', 'category_group_code': 'FD6', 'category_group_name': '음식점', 'category_name': '음식점 > 한식 > 냉면', 'distance': '', 'id': '18438679', 'phone': '02-722-7033', 'place_name': '강남면옥 정동점', 'place_url': 'http://place.map.kakao.com/18438679', 'road_address_name': '서울 종로구 새문안로 38', 'x': '126.96970163927291', 'y': '37.568407997448126'}, {'address_name': '서울 서대문구 미근동 27', 'category_group_code': 'FD6', 'category_group_name': '음식점', 'category_name': '음식점 > 한식 > 순대', 'distance': '', 'id': '2126219174', 'phone': '02-725-2788', 'place_name': '아바이왕순대', 'place_url': 'http://place.map.kakao.com/2126219174', 'road_address_name': '서울 서대문구 충정로6안길 52', 'x': '126.966727639368', 'y': '37.5642644174138'}, {'address_name': '서울 중구 봉래동1가 25', 'category_group_code': 'FD6', 'category_group_name': '음식점', 'category_name': '음식점 > 한식 > 한정식', 'distance': '', 'id': '1102847581', 'phone': '02-318-4997', 'place_name': '해담채 시청점', 'place_url': 'http://place.map.kakao.com/1102847581', 'road_address_name': '서울 중구 칠패로 37', 'x': '126.973026854861', 'y': '37.5600817964388'}, {'address_name': '서울 중구 남대문로5가 120', 'category_group_code': 'FD6', 'category_group_name': '음식점', 'category_name': '음식점 > 한식 > 냉면', 'distance': '', 'id': '1644608542', 'phone': '0503-7150-8217', 'place_name': '서령 본점', 'place_url': 'http://place.map.kakao.com/1644608542', 'road_address_name': '서울 중구 소월로 10', 'x': '126.97549698076399', 'y': '37.55846234223722'}, {'address_name': '서울 서대문구 합동 31-7', 'category_group_code': 'CE7', 'category_group_name': '카페', 'category_name': '음식점 > 카페', 'distance': '', 'id': '14666211', 'phone': '02-365-9701', 'place_name': '나무야', 'place_url': 'http://place.map.kakao.com/14666211', 'road_address_name': '서울 서대문구 서소문로 43-22', 'x': '126.96528715111734', 'y': '37.561009603302345'}, {'address_name': '서울 중구 정동 1-48', 'category_group_code': 'FD6', 'category_group_name': '음식점', 'category_name': '음식점 > 한식 > 국밥', 'distance': '', 'id': '2067124772', 'phone': '02-738-5688', 'place_name': '광화문국밥 본점', 'place_url': 'http://place.map.kakao.com/2067124772', 'road_address_name': '서울 중구 세종대로21길 53', 'x': '126.975391668232', 'y': '37.5689589279236'}]\n"
     ]
    }
   ],
   "source": [
    "\n",
    "\n",
    "# 결과를 저장할 리스트\n",
    "datas = []\n",
    "\n",
    "# \"충정로 맛집\" 검색\n",
    "search_word = keywords[0] + \" 맛집\"\n",
    "\n",
    "for page in range(1, 4):  # 1, 2, 3 페이지 반복\n",
    "    params = {\n",
    "        \"query\": search_word,\n",
    "        \"radius\": 1000,\n",
    "        \"page\": page\n",
    "    }\n",
    "    \n",
    "    response = requests.get(KEYWORD_LOCAL_URL, headers=headers, params=params)\n",
    "    data = response.json().get('documents', [])\n",
    "    \n",
    "    datas.extend(data)  # 결과 합치기\n",
    "\n",
    "print(datas)  # 최대 45개 가게 정보\n"
   ]
  },
  {
   "cell_type": "code",
   "execution_count": 21,
   "id": "4bff2636",
   "metadata": {},
   "outputs": [
    {
     "name": "stdout",
     "output_type": "stream",
     "text": [
      "45\n"
     ]
    }
   ],
   "source": [
    "print(len(datas))"
   ]
  },
  {
   "cell_type": "code",
   "execution_count": 22,
   "id": "153e4d70",
   "metadata": {},
   "outputs": [],
   "source": [
    "COMMENT_URL = \"https://place.map.kakao.com/m/commentlist/v/{}/{}?order=USEFUL&onlyPhotoComment=false\""
   ]
  },
  {
   "cell_type": "code",
   "execution_count": 23,
   "id": "b205a254",
   "metadata": {},
   "outputs": [
    {
     "data": {
      "text/plain": [
       "[{'id': '469577034', 'placename': '유즈라멘 만리동점'},\n",
       " {'id': '1646052453', 'placename': '만리재비스트로'},\n",
       " {'id': '1541595421', 'placename': '공일부엌'},\n",
       " {'id': '302317049', 'placename': '도마 중림점'},\n",
       " {'id': '221927024', 'placename': '국민회관'},\n",
       " {'id': '15982071', 'placename': '정원레스토랑 어반가든'},\n",
       " {'id': '8079539', 'placename': '중림장'},\n",
       " {'id': '2092235998', 'placename': '봉래축산'},\n",
       " {'id': '26939037', 'placename': '두툼'},\n",
       " {'id': '1981716686', 'placename': '서울부띠끄'},\n",
       " {'id': '1198183678', 'placename': '커피앤시가렛'},\n",
       " {'id': '25880887', 'placename': '철길떡볶이'},\n",
       " {'id': '412548224', 'placename': '풍문고기집'},\n",
       " {'id': '26644530', 'placename': '베리키친'},\n",
       " {'id': '15659337', 'placename': '미시령너머'},\n",
       " {'id': '11486129', 'placename': '가메골손왕만두 남대문본점'},\n",
       " {'id': '27276847', 'placename': '호수집 원조닭꼬치'},\n",
       " {'id': '820527185', 'placename': '이조식당'},\n",
       " {'id': '9991132', 'placename': '명인강메밀푸른초장'},\n",
       " {'id': '861738054', 'placename': '28총각'},\n",
       " {'id': '9923165', 'placename': '사조미가'},\n",
       " {'id': '1769574951', 'placename': '더하우스1932'},\n",
       " {'id': '23986974', 'placename': '르셰프블루'},\n",
       " {'id': '11152625', 'placename': '진주회관'},\n",
       " {'id': '7914330', 'placename': '부원면옥'},\n",
       " {'id': '10253905', 'placename': '닭칼원조집'},\n",
       " {'id': '12441941', 'placename': '고릴라'},\n",
       " {'id': '19517729', 'placename': '참맛장어'},\n",
       " {'id': '1633496138', 'placename': '호중정원'},\n",
       " {'id': '8583486', 'placename': '충정각'},\n",
       " {'id': '166104597', 'placename': 'e문어세상 충정로직영점'},\n",
       " {'id': '8178288', 'placename': '고려삼계탕 시청본점'},\n",
       " {'id': '261374332', 'placename': '프랑스백반'},\n",
       " {'id': '706168887', 'placename': '메이탄 종로점'},\n",
       " {'id': '16732242', 'placename': '한옥집김치찜 서대문본점'},\n",
       " {'id': '1141309946', 'placename': '도우스 서울로점'},\n",
       " {'id': '10553650', 'placename': '송옥'},\n",
       " {'id': '1753271813', 'placename': '중림동물고기'},\n",
       " {'id': '812076679', 'placename': '만리199'},\n",
       " {'id': '18438679', 'placename': '강남면옥 정동점'},\n",
       " {'id': '2126219174', 'placename': '아바이왕순대'},\n",
       " {'id': '1102847581', 'placename': '해담채 시청점'},\n",
       " {'id': '1644608542', 'placename': '서령 본점'},\n",
       " {'id': '14666211', 'placename': '나무야'},\n",
       " {'id': '2067124772', 'placename': '광화문국밥 본점'}]"
      ]
     },
     "execution_count": 23,
     "metadata": {},
     "output_type": "execute_result"
    }
   ],
   "source": [
    "# 1. 맛집 고유 id\n",
    "id_place_list = [ { 'id' : data['id'], 'placename': data['place_name']} for data in datas ]\n",
    "id_place_list"
   ]
  },
  {
   "cell_type": "code",
   "execution_count": 24,
   "id": "7b710d25",
   "metadata": {},
   "outputs": [
    {
     "data": {
      "text/plain": [
       "45"
      ]
     },
     "execution_count": 24,
     "metadata": {},
     "output_type": "execute_result"
    }
   ],
   "source": [
    "len(id_place_list)"
   ]
  },
  {
   "cell_type": "code",
   "execution_count": 56,
   "id": "e61dcced",
   "metadata": {},
   "outputs": [
    {
     "name": "stdout",
     "output_type": "stream",
     "text": [
      "⚠️ 유즈라멘 만리동점 요청 실패: HTTPSConnectionPool(host='place.map.kakao.com', port=443): Max retries exceeded with url: /m/commentlist/v/469577034/12142939?order=USEFUL&onlyPhotoComment=false (Caused by ConnectTimeoutError(<urllib3.connection.HTTPSConnection object at 0x123200090>, 'Connection to place.map.kakao.com timed out. (connect timeout=30)'))\n",
      "가게 45개 중에, 1번째 완료! 1초 쉽니당 💤\n",
      "가게 45개 중에, 2번째 완료! 1초 쉽니당 💤\n",
      "가게 45개 중에, 3번째 완료! 1초 쉽니당 💤\n",
      "가게 45개 중에, 4번째 완료! 1초 쉽니당 💤\n",
      "가게 45개 중에, 5번째 완료! 1초 쉽니당 💤\n",
      "가게 45개 중에, 6번째 완료! 1초 쉽니당 💤\n",
      "⚠️ 중림장 리뷰 없음, 스킵\n",
      "가게 45개 중에, 7번째 완료! 1초 쉽니당 💤\n",
      "가게 45개 중에, 8번째 완료! 1초 쉽니당 💤\n",
      "가게 45개 중에, 9번째 완료! 1초 쉽니당 💤\n",
      "가게 45개 중에, 10번째 완료! 1초 쉽니당 💤\n",
      "가게 45개 중에, 11번째 완료! 1초 쉽니당 💤\n",
      "가게 45개 중에, 12번째 완료! 1초 쉽니당 💤\n",
      "가게 45개 중에, 13번째 완료! 1초 쉽니당 💤\n",
      "가게 45개 중에, 14번째 완료! 1초 쉽니당 💤\n",
      "가게 45개 중에, 15번째 완료! 1초 쉽니당 💤\n",
      "가게 45개 중에, 16번째 완료! 1초 쉽니당 💤\n",
      "가게 45개 중에, 17번째 완료! 1초 쉽니당 💤\n",
      "가게 45개 중에, 18번째 완료! 1초 쉽니당 💤\n",
      "가게 45개 중에, 19번째 완료! 1초 쉽니당 💤\n",
      "가게 45개 중에, 20번째 완료! 1초 쉽니당 💤\n",
      "가게 45개 중에, 21번째 완료! 1초 쉽니당 💤\n",
      "⚠️ 더하우스1932 리뷰 없음, 스킵\n",
      "가게 45개 중에, 22번째 완료! 1초 쉽니당 💤\n",
      "가게 45개 중에, 23번째 완료! 1초 쉽니당 💤\n",
      "가게 45개 중에, 24번째 완료! 1초 쉽니당 💤\n",
      "가게 45개 중에, 25번째 완료! 1초 쉽니당 💤\n",
      "가게 45개 중에, 26번째 완료! 1초 쉽니당 💤\n",
      "가게 45개 중에, 27번째 완료! 1초 쉽니당 💤\n",
      "가게 45개 중에, 28번째 완료! 1초 쉽니당 💤\n",
      "가게 45개 중에, 29번째 완료! 1초 쉽니당 💤\n",
      "가게 45개 중에, 30번째 완료! 1초 쉽니당 💤\n",
      "가게 45개 중에, 31번째 완료! 1초 쉽니당 💤\n",
      "가게 45개 중에, 32번째 완료! 1초 쉽니당 💤\n",
      "가게 45개 중에, 33번째 완료! 1초 쉽니당 💤\n",
      "가게 45개 중에, 34번째 완료! 1초 쉽니당 💤\n",
      "가게 45개 중에, 35번째 완료! 1초 쉽니당 💤\n",
      "가게 45개 중에, 36번째 완료! 1초 쉽니당 💤\n",
      "가게 45개 중에, 37번째 완료! 1초 쉽니당 💤\n",
      "가게 45개 중에, 38번째 완료! 1초 쉽니당 💤\n",
      "가게 45개 중에, 39번째 완료! 1초 쉽니당 💤\n",
      "가게 45개 중에, 40번째 완료! 1초 쉽니당 💤\n",
      "가게 45개 중에, 41번째 완료! 1초 쉽니당 💤\n",
      "가게 45개 중에, 42번째 완료! 1초 쉽니당 💤\n",
      "가게 45개 중에, 43번째 완료! 1초 쉽니당 💤\n",
      "가게 45개 중에, 44번째 완료! 1초 쉽니당 💤\n",
      "⚠️ 광화문국밥 본점 요청 실패: HTTPSConnectionPool(host='place.map.kakao.com', port=443): Max retries exceeded with url: /m/commentlist/v/2067124772/6524982?order=USEFUL&onlyPhotoComment=false (Caused by ConnectTimeoutError(<urllib3.connection.HTTPSConnection object at 0x12331c710>, 'Connection to place.map.kakao.com timed out. (connect timeout=30)'))\n",
      "가게 45개 중에, 45번째 완료! 1초 쉽니당 💤\n",
      "        가게이름                                               리뷰내용  리뷰별점\n",
      "0  유즈라멘 만리동점  평소 유자소스를 안좋아하는데 여기는 신세계..\\n진짜 너무 맛있어요!! 캐치테이블있...     5\n",
      "1  유즈라멘 만리동점                               가장 좋아하는 전통적인 맛의 라멘집.     5\n",
      "2  유즈라멘 만리동점         진짜 맛집이에요. 친절하고 분위기 좋고 단점은\\n오래 웨이팅하는것 뿐입니다.     5\n",
      "3  유즈라멘 만리동점  군대 제대 이후로 2열 종대로 줄서서 기다리다 식당 들어가기는 처음이다. 들어가면 ...     1\n",
      "4  유즈라멘 만리동점  들어올 때 직원분들이 단체적으로 힘차게 인사해주셔서ㅋㅋ 되게 새롭고 힘받는 입장(E...     4\n",
      "리뷰 총 개수: 4830개\n"
     ]
    }
   ],
   "source": [
    "import pandas as pd\n",
    "import time\n",
    "\n",
    "all_comment_df_list = []\n",
    "\n",
    "# 전체 가게 수 저장\n",
    "total_places = len(id_place_list[:45])\n",
    "\n",
    "for idx, id_with_placename in enumerate(id_place_list[:45], 1):\n",
    "\n",
    "    all_comment = []\n",
    "\n",
    "    comment_id = 0\n",
    "    has_next = True\n",
    "\n",
    "    while has_next:\n",
    "        try:\n",
    "            SCRAP_COMMENT_URL = COMMENT_URL.format(id_with_placename['id'], comment_id)\n",
    "            response = requests.get(SCRAP_COMMENT_URL, timeout=30)\n",
    "            json_response = response.json()\n",
    "        except Exception as e:\n",
    "            print(f\"⚠️ {id_with_placename['placename']} 요청 실패: {e}\")\n",
    "            break\n",
    "\n",
    "        if 'comment' not in json_response:\n",
    "            print(f\"⚠️ {id_with_placename['placename']} 리뷰 없음, 스킵\")\n",
    "            break\n",
    "\n",
    "        # ★ 이 두 줄 꼭 추가해야 해\n",
    "        comment_datas = json_response['comment']\n",
    "        comment_list = comment_datas['list']\n",
    "\n",
    "        # 필요한 것만 골라서 저장\n",
    "        for comment in comment_list:\n",
    "            all_comment.append({\n",
    "                '가게이름': id_with_placename['placename'],\n",
    "                '리뷰내용': comment.get('contents', '').strip(),\n",
    "                '리뷰별점': comment.get('point', None)\n",
    "            })\n",
    "\n",
    "        has_next = comment_datas.get('hasNext', False)\n",
    "        \n",
    "        if has_next and comment_list:\n",
    "            comment_id = comment_list[-1]['commentid']\n",
    "        else:\n",
    "            has_next = False\n",
    "\n",
    "    if all_comment:\n",
    "        df = pd.DataFrame(all_comment)\n",
    "        all_comment_df_list.append(df)\n",
    "    \n",
    "    time.sleep(1)\n",
    "    print(f\"가게 {total_places}개 중에, {idx}번째 완료! 1초 쉽니당 💤\")\n",
    "\n",
    "# 전체 리뷰 합치기\n",
    "if all_comment_df_list:\n",
    "    final_df = pd.concat(all_comment_df_list, ignore_index=True)\n",
    "else:\n",
    "    final_df = pd.DataFrame(columns=[\"가게이름\", \"리뷰내용\", \"리뷰별점\"])\n",
    "\n",
    "# 결과 확인\n",
    "print(final_df.head())\n",
    "print(f\"리뷰 총 개수: {len(final_df)}개\")\n"
   ]
  },
  {
   "cell_type": "code",
   "execution_count": 57,
   "id": "1136751b",
   "metadata": {},
   "outputs": [
    {
     "name": "stdout",
     "output_type": "stream",
     "text": [
      "<class 'pandas.core.frame.DataFrame'>\n",
      "RangeIndex: 4830 entries, 0 to 4829\n",
      "Data columns (total 3 columns):\n",
      " #   Column  Non-Null Count  Dtype \n",
      "---  ------  --------------  ----- \n",
      " 0   가게이름    4830 non-null   object\n",
      " 1   리뷰내용    4830 non-null   object\n",
      " 2   리뷰별점    4830 non-null   int64 \n",
      "dtypes: int64(1), object(2)\n",
      "memory usage: 113.3+ KB\n"
     ]
    }
   ],
   "source": [
    "final_df.info()"
   ]
  },
  {
   "cell_type": "code",
   "execution_count": 58,
   "id": "947111fe",
   "metadata": {},
   "outputs": [
    {
     "data": {
      "text/html": [
       "<div>\n",
       "<style scoped>\n",
       "    .dataframe tbody tr th:only-of-type {\n",
       "        vertical-align: middle;\n",
       "    }\n",
       "\n",
       "    .dataframe tbody tr th {\n",
       "        vertical-align: top;\n",
       "    }\n",
       "\n",
       "    .dataframe thead th {\n",
       "        text-align: right;\n",
       "    }\n",
       "</style>\n",
       "<table border=\"1\" class=\"dataframe\">\n",
       "  <thead>\n",
       "    <tr style=\"text-align: right;\">\n",
       "      <th></th>\n",
       "      <th>가게이름</th>\n",
       "      <th>리뷰내용</th>\n",
       "      <th>리뷰별점</th>\n",
       "    </tr>\n",
       "  </thead>\n",
       "  <tbody>\n",
       "    <tr>\n",
       "      <th>0</th>\n",
       "      <td>유즈라멘 만리동점</td>\n",
       "      <td>평소 유자소스를 안좋아하는데 여기는 신세계..\\n진짜 너무 맛있어요!! 캐치테이블있...</td>\n",
       "      <td>5</td>\n",
       "    </tr>\n",
       "    <tr>\n",
       "      <th>1</th>\n",
       "      <td>유즈라멘 만리동점</td>\n",
       "      <td>가장 좋아하는 전통적인 맛의 라멘집.</td>\n",
       "      <td>5</td>\n",
       "    </tr>\n",
       "    <tr>\n",
       "      <th>2</th>\n",
       "      <td>유즈라멘 만리동점</td>\n",
       "      <td>진짜 맛집이에요. 친절하고 분위기 좋고 단점은\\n오래 웨이팅하는것 뿐입니다.</td>\n",
       "      <td>5</td>\n",
       "    </tr>\n",
       "    <tr>\n",
       "      <th>3</th>\n",
       "      <td>유즈라멘 만리동점</td>\n",
       "      <td>군대 제대 이후로 2열 종대로 줄서서 기다리다 식당 들어가기는 처음이다. 들어가면 ...</td>\n",
       "      <td>1</td>\n",
       "    </tr>\n",
       "    <tr>\n",
       "      <th>4</th>\n",
       "      <td>유즈라멘 만리동점</td>\n",
       "      <td>들어올 때 직원분들이 단체적으로 힘차게 인사해주셔서ㅋㅋ 되게 새롭고 힘받는 입장(E...</td>\n",
       "      <td>4</td>\n",
       "    </tr>\n",
       "  </tbody>\n",
       "</table>\n",
       "</div>"
      ],
      "text/plain": [
       "        가게이름                                               리뷰내용  리뷰별점\n",
       "0  유즈라멘 만리동점  평소 유자소스를 안좋아하는데 여기는 신세계..\\n진짜 너무 맛있어요!! 캐치테이블있...     5\n",
       "1  유즈라멘 만리동점                               가장 좋아하는 전통적인 맛의 라멘집.     5\n",
       "2  유즈라멘 만리동점         진짜 맛집이에요. 친절하고 분위기 좋고 단점은\\n오래 웨이팅하는것 뿐입니다.     5\n",
       "3  유즈라멘 만리동점  군대 제대 이후로 2열 종대로 줄서서 기다리다 식당 들어가기는 처음이다. 들어가면 ...     1\n",
       "4  유즈라멘 만리동점  들어올 때 직원분들이 단체적으로 힘차게 인사해주셔서ㅋㅋ 되게 새롭고 힘받는 입장(E...     4"
      ]
     },
     "execution_count": 58,
     "metadata": {},
     "output_type": "execute_result"
    }
   ],
   "source": [
    "\n",
    "final_df.head()\n"
   ]
  },
  {
   "cell_type": "code",
   "execution_count": 62,
   "id": "58306562",
   "metadata": {},
   "outputs": [
    {
     "data": {
      "text/plain": [
       "43"
      ]
     },
     "execution_count": 62,
     "metadata": {},
     "output_type": "execute_result"
    }
   ],
   "source": [
    "len(final_df[\"가게이름\"].unique())"
   ]
  },
  {
   "cell_type": "code",
   "execution_count": 61,
   "id": "d7415f51",
   "metadata": {},
   "outputs": [
    {
     "data": {
      "text/html": [
       "<div>\n",
       "<style scoped>\n",
       "    .dataframe tbody tr th:only-of-type {\n",
       "        vertical-align: middle;\n",
       "    }\n",
       "\n",
       "    .dataframe tbody tr th {\n",
       "        vertical-align: top;\n",
       "    }\n",
       "\n",
       "    .dataframe thead th {\n",
       "        text-align: right;\n",
       "    }\n",
       "</style>\n",
       "<table border=\"1\" class=\"dataframe\">\n",
       "  <thead>\n",
       "    <tr style=\"text-align: right;\">\n",
       "      <th></th>\n",
       "      <th>가게이름</th>\n",
       "      <th>리뷰내용</th>\n",
       "      <th>리뷰별점</th>\n",
       "    </tr>\n",
       "  </thead>\n",
       "  <tbody>\n",
       "    <tr>\n",
       "      <th>0</th>\n",
       "      <td>유즈라멘 만리동점</td>\n",
       "      <td>평소 유자소스를 안좋아하는데 여기는 신세계..\\n진짜 너무 맛있어요!! 캐치테이블있...</td>\n",
       "      <td>5</td>\n",
       "    </tr>\n",
       "    <tr>\n",
       "      <th>1</th>\n",
       "      <td>유즈라멘 만리동점</td>\n",
       "      <td>가장 좋아하는 전통적인 맛의 라멘집.</td>\n",
       "      <td>5</td>\n",
       "    </tr>\n",
       "    <tr>\n",
       "      <th>2</th>\n",
       "      <td>유즈라멘 만리동점</td>\n",
       "      <td>진짜 맛집이에요. 친절하고 분위기 좋고 단점은\\n오래 웨이팅하는것 뿐입니다.</td>\n",
       "      <td>5</td>\n",
       "    </tr>\n",
       "    <tr>\n",
       "      <th>3</th>\n",
       "      <td>유즈라멘 만리동점</td>\n",
       "      <td>군대 제대 이후로 2열 종대로 줄서서 기다리다 식당 들어가기는 처음이다. 들어가면 ...</td>\n",
       "      <td>1</td>\n",
       "    </tr>\n",
       "    <tr>\n",
       "      <th>4</th>\n",
       "      <td>유즈라멘 만리동점</td>\n",
       "      <td>들어올 때 직원분들이 단체적으로 힘차게 인사해주셔서ㅋㅋ 되게 새롭고 힘받는 입장(E...</td>\n",
       "      <td>4</td>\n",
       "    </tr>\n",
       "    <tr>\n",
       "      <th>...</th>\n",
       "      <td>...</td>\n",
       "      <td>...</td>\n",
       "      <td>...</td>\n",
       "    </tr>\n",
       "    <tr>\n",
       "      <th>4825</th>\n",
       "      <td>광화문국밥 본점</td>\n",
       "      <td></td>\n",
       "      <td>4</td>\n",
       "    </tr>\n",
       "    <tr>\n",
       "      <th>4826</th>\n",
       "      <td>광화문국밥 본점</td>\n",
       "      <td>정갈한느낌 돼지국밥 \\n돼지국밥이 살코기만 있으면서\\n이렇게 정갈하고 시원할 수 있다니</td>\n",
       "      <td>5</td>\n",
       "    </tr>\n",
       "    <tr>\n",
       "      <th>4827</th>\n",
       "      <td>광화문국밥 본점</td>\n",
       "      <td></td>\n",
       "      <td>4</td>\n",
       "    </tr>\n",
       "    <tr>\n",
       "      <th>4828</th>\n",
       "      <td>광화문국밥 본점</td>\n",
       "      <td>깔끔한 국밥~\\n가격9,000원저렴하나\\n평범함~</td>\n",
       "      <td>3</td>\n",
       "    </tr>\n",
       "    <tr>\n",
       "      <th>4829</th>\n",
       "      <td>광화문국밥 본점</td>\n",
       "      <td></td>\n",
       "      <td>3</td>\n",
       "    </tr>\n",
       "  </tbody>\n",
       "</table>\n",
       "<p>4830 rows × 3 columns</p>\n",
       "</div>"
      ],
      "text/plain": [
       "           가게이름                                               리뷰내용  리뷰별점\n",
       "0     유즈라멘 만리동점  평소 유자소스를 안좋아하는데 여기는 신세계..\\n진짜 너무 맛있어요!! 캐치테이블있...     5\n",
       "1     유즈라멘 만리동점                               가장 좋아하는 전통적인 맛의 라멘집.     5\n",
       "2     유즈라멘 만리동점         진짜 맛집이에요. 친절하고 분위기 좋고 단점은\\n오래 웨이팅하는것 뿐입니다.     5\n",
       "3     유즈라멘 만리동점  군대 제대 이후로 2열 종대로 줄서서 기다리다 식당 들어가기는 처음이다. 들어가면 ...     1\n",
       "4     유즈라멘 만리동점  들어올 때 직원분들이 단체적으로 힘차게 인사해주셔서ㅋㅋ 되게 새롭고 힘받는 입장(E...     4\n",
       "...         ...                                                ...   ...\n",
       "4825   광화문국밥 본점                                                        4\n",
       "4826   광화문국밥 본점   정갈한느낌 돼지국밥 \\n돼지국밥이 살코기만 있으면서\\n이렇게 정갈하고 시원할 수 있다니     5\n",
       "4827   광화문국밥 본점                                                        4\n",
       "4828   광화문국밥 본점                        깔끔한 국밥~\\n가격9,000원저렴하나\\n평범함~     3\n",
       "4829   광화문국밥 본점                                                        3\n",
       "\n",
       "[4830 rows x 3 columns]"
      ]
     },
     "execution_count": 61,
     "metadata": {},
     "output_type": "execute_result"
    }
   ],
   "source": [
    "final_df"
   ]
  },
  {
   "cell_type": "code",
   "execution_count": null,
   "id": "8922ec7c",
   "metadata": {},
   "outputs": [],
   "source": []
  }
 ],
 "metadata": {
  "kernelspec": {
   "display_name": "hktoss",
   "language": "python",
   "name": "python3"
  },
  "language_info": {
   "codemirror_mode": {
    "name": "ipython",
    "version": 3
   },
   "file_extension": ".py",
   "mimetype": "text/x-python",
   "name": "python",
   "nbconvert_exporter": "python",
   "pygments_lexer": "ipython3",
   "version": "3.11.11"
  }
 },
 "nbformat": 4,
 "nbformat_minor": 5
}
