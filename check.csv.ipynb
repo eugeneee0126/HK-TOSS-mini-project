{
 "cells": [
  {
   "cell_type": "code",
   "execution_count": 7,
   "id": "9f47f424",
   "metadata": {},
   "outputs": [],
   "source": [
    "import pandas as pd"
   ]
  },
  {
   "cell_type": "code",
   "execution_count": 8,
   "id": "cbddf2bd",
   "metadata": {},
   "outputs": [
    {
     "data": {
      "text/html": [
       "<div>\n",
       "<style scoped>\n",
       "    .dataframe tbody tr th:only-of-type {\n",
       "        vertical-align: middle;\n",
       "    }\n",
       "\n",
       "    .dataframe tbody tr th {\n",
       "        vertical-align: top;\n",
       "    }\n",
       "\n",
       "    .dataframe thead th {\n",
       "        text-align: right;\n",
       "    }\n",
       "</style>\n",
       "<table border=\"1\" class=\"dataframe\">\n",
       "  <thead>\n",
       "    <tr style=\"text-align: right;\">\n",
       "      <th></th>\n",
       "      <th>가게이름</th>\n",
       "      <th>리뷰내용</th>\n",
       "      <th>리뷰별점</th>\n",
       "    </tr>\n",
       "  </thead>\n",
       "  <tbody>\n",
       "    <tr>\n",
       "      <th>0</th>\n",
       "      <td>28총각</td>\n",
       "      <td>괜춘.. 괜춘함\\n좀 좁긴 한데\\n맛남</td>\n",
       "      <td>5</td>\n",
       "    </tr>\n",
       "    <tr>\n",
       "      <th>1</th>\n",
       "      <td>28총각</td>\n",
       "      <td>점심 돈가스 고기 두툼하고 맛좋고 순두부찌게까지 푸짐하게 먹을수있어서 최고인데 아쉬...</td>\n",
       "      <td>5</td>\n",
       "    </tr>\n",
       "    <tr>\n",
       "      <th>2</th>\n",
       "      <td>28총각</td>\n",
       "      <td>밑반찬 맛깔나고 돈까스도 갓튀겨서 나옴\\n직원분들 너무 친절\\n줄서서라도 가는점심맛집</td>\n",
       "      <td>5</td>\n",
       "    </tr>\n",
       "    <tr>\n",
       "      <th>3</th>\n",
       "      <td>28총각</td>\n",
       "      <td>맛있고 직원분들도 친절. 공휴일, 주말에 안하시는게 아쉬워요ㅠ</td>\n",
       "      <td>4</td>\n",
       "    </tr>\n",
       "    <tr>\n",
       "      <th>4</th>\n",
       "      <td>28총각</td>\n",
       "      <td>저녁엔 가본적없지만, 점심 돈까스 굉장히 맛있습니다. 계속 리필할수있고 부드럽고 친...</td>\n",
       "      <td>5</td>\n",
       "    </tr>\n",
       "    <tr>\n",
       "      <th>...</th>\n",
       "      <td>...</td>\n",
       "      <td>...</td>\n",
       "      <td>...</td>\n",
       "    </tr>\n",
       "    <tr>\n",
       "      <th>5267</th>\n",
       "      <td>호수집 원조닭꼬치</td>\n",
       "      <td>닭볶음탕은 물많은 스타일로 정말 흔해빠진 맛입니다. 닭꼬치가 더유명한데 메인을 꼭시...</td>\n",
       "      <td>2</td>\n",
       "    </tr>\n",
       "    <tr>\n",
       "      <th>5268</th>\n",
       "      <td>호수집 원조닭꼬치</td>\n",
       "      <td>가게가 작아서 여섯이상 같이가면 약간 조금 불편함 닭볶음탕 먹을만한데 집에서 만드는...</td>\n",
       "      <td>4</td>\n",
       "    </tr>\n",
       "    <tr>\n",
       "      <th>5269</th>\n",
       "      <td>호수집 원조닭꼬치</td>\n",
       "      <td>닭도리탕은 특별한 맛은 아니였고 닭꼬치가 엄청 부드러웠음. 뼈있으니 조심\\n평일에 ...</td>\n",
       "      <td>3</td>\n",
       "    </tr>\n",
       "    <tr>\n",
       "      <th>5270</th>\n",
       "      <td>호수집 원조닭꼬치</td>\n",
       "      <td>1. 소문대로 닭꼬치는 아주아주 맛있습니다. 평일 7시 기준 6개 주문하였지만 역시...</td>\n",
       "      <td>4</td>\n",
       "    </tr>\n",
       "    <tr>\n",
       "      <th>5271</th>\n",
       "      <td>호수집 원조닭꼬치</td>\n",
       "      <td>이정도 가격에, 이정도 양이면 별다른 말이 필요없습니다. 닭꼬치 드실분은 오후에 가...</td>\n",
       "      <td>5</td>\n",
       "    </tr>\n",
       "  </tbody>\n",
       "</table>\n",
       "<p>5272 rows × 3 columns</p>\n",
       "</div>"
      ],
      "text/plain": [
       "           가게이름                                               리뷰내용  리뷰별점\n",
       "0          28총각                              괜춘.. 괜춘함\\n좀 좁긴 한데\\n맛남     5\n",
       "1          28총각  점심 돈가스 고기 두툼하고 맛좋고 순두부찌게까지 푸짐하게 먹을수있어서 최고인데 아쉬...     5\n",
       "2          28총각    밑반찬 맛깔나고 돈까스도 갓튀겨서 나옴\\n직원분들 너무 친절\\n줄서서라도 가는점심맛집     5\n",
       "3          28총각                 맛있고 직원분들도 친절. 공휴일, 주말에 안하시는게 아쉬워요ㅠ     4\n",
       "4          28총각  저녁엔 가본적없지만, 점심 돈까스 굉장히 맛있습니다. 계속 리필할수있고 부드럽고 친...     5\n",
       "...         ...                                                ...   ...\n",
       "5267  호수집 원조닭꼬치  닭볶음탕은 물많은 스타일로 정말 흔해빠진 맛입니다. 닭꼬치가 더유명한데 메인을 꼭시...     2\n",
       "5268  호수집 원조닭꼬치  가게가 작아서 여섯이상 같이가면 약간 조금 불편함 닭볶음탕 먹을만한데 집에서 만드는...     4\n",
       "5269  호수집 원조닭꼬치  닭도리탕은 특별한 맛은 아니였고 닭꼬치가 엄청 부드러웠음. 뼈있으니 조심\\n평일에 ...     3\n",
       "5270  호수집 원조닭꼬치  1. 소문대로 닭꼬치는 아주아주 맛있습니다. 평일 7시 기준 6개 주문하였지만 역시...     4\n",
       "5271  호수집 원조닭꼬치  이정도 가격에, 이정도 양이면 별다른 말이 필요없습니다. 닭꼬치 드실분은 오후에 가...     5\n",
       "\n",
       "[5272 rows x 3 columns]"
      ]
     },
     "execution_count": 8,
     "metadata": {},
     "output_type": "execute_result"
    }
   ],
   "source": [
    "df = pd.read_csv(\"/Users/choeminju/Documents/GitHub/CafeKiosk/HK-TOSS-mini-project/충정로역_리뷰데이터.csv\")\n",
    "\n",
    "df"
   ]
  },
  {
   "cell_type": "code",
   "execution_count": 9,
   "id": "f7b9c265",
   "metadata": {},
   "outputs": [
    {
     "ename": "TypeError",
     "evalue": "object of type 'method' has no len()",
     "output_type": "error",
     "traceback": [
      "\u001b[31m---------------------------------------------------------------------------\u001b[39m",
      "\u001b[31mTypeError\u001b[39m                                 Traceback (most recent call last)",
      "\u001b[36mCell\u001b[39m\u001b[36m \u001b[39m\u001b[32mIn[9]\u001b[39m\u001b[32m, line 1\u001b[39m\n\u001b[32m----> \u001b[39m\u001b[32m1\u001b[39m \u001b[38;5;28mlen\u001b[39m(df[\u001b[33m\"\u001b[39m\u001b[33m가게이름\u001b[39m\u001b[33m\"\u001b[39m].unique)\n",
      "\u001b[31mTypeError\u001b[39m: object of type 'method' has no len()"
     ]
    }
   ],
   "source": [
    "len(df[\"가게이름\"].unique)"
   ]
  },
  {
   "cell_type": "code",
   "execution_count": null,
   "id": "29c1881a",
   "metadata": {},
   "outputs": [],
   "source": []
  }
 ],
 "metadata": {
  "kernelspec": {
   "display_name": "hktoss",
   "language": "python",
   "name": "python3"
  },
  "language_info": {
   "codemirror_mode": {
    "name": "ipython",
    "version": 3
   },
   "file_extension": ".py",
   "mimetype": "text/x-python",
   "name": "python",
   "nbconvert_exporter": "python",
   "pygments_lexer": "ipython3",
   "version": "3.11.11"
  }
 },
 "nbformat": 4,
 "nbformat_minor": 5
}
